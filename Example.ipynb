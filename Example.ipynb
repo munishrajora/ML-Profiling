{
 "cells": [
  {
   "cell_type": "code",
   "execution_count": 1,
   "metadata": {},
   "outputs": [],
   "source": [
    "import pandas as pd\n",
    "from model_creation import model_creation\n",
    "\n",
    "\n",
    "df = pd.read_csv(\"data/Boston.csv\")\n",
    "df = df.drop('Unnamed: 0',axis=1)\n",
    "#est_list = ['lr', 'lasso','ridge','svm','knn','dt','rf','gbr','ada','lgbm','catboost']"
   ]
  },
  {
   "cell_type": "markdown",
   "metadata": {},
   "source": [
    "# $$\\text{Regression without hyper parameter tuning}$$"
   ]
  },
  {
   "cell_type": "code",
   "execution_count": 2,
   "metadata": {},
   "outputs": [
    {
     "name": "stdout",
     "output_type": "stream",
     "text": [
      "\n",
      "**************************************** Regression report on Train Data and Test Data ****************************************\n",
      "\n",
      " LinearRegression(copy_X=True, fit_intercept=True, n_jobs=None, normalize=False)\n",
      "\n",
      "\t\tMetrics                     Train Data\t\tTest Data\n",
      "\t\t ------------------------------------------------------\n",
      "\t\tMean Absolute Error             3.357\t\t3.163\n",
      "\t\tMean Squared Error              22.545\t\t21.517\n",
      "\t\tMean Absolute Percentage Error  0.166\t\t0.165\n",
      "\t\tR2 Score                        0.743\t\t0.711\n",
      "\n",
      "**************************************** Regression report on Train Data and Test Data ****************************************\n",
      "\n",
      " Lasso(alpha=1.0, copy_X=True, fit_intercept=True, max_iter=1000,\n",
      "      normalize=False, positive=False, precompute=False, random_state=30,\n",
      "      selection='cyclic', tol=0.0001, warm_start=False)\n",
      "\n",
      "\t\tMetrics                     Train Data\t\tTest Data\n",
      "\t\t ------------------------------------------------------\n",
      "\t\tMean Absolute Error             3.654\t\t3.659\n",
      "\t\tMean Squared Error              27.252\t\t25.640\n",
      "\t\tMean Absolute Percentage Error  0.172\t\t0.185\n",
      "\t\tR2 Score                        0.690\t\t0.656\n",
      "\n",
      "**************************************** Regression report on Train Data and Test Data ****************************************\n",
      "\n",
      " Ridge(alpha=1.0, copy_X=True, fit_intercept=True, max_iter=None,\n",
      "      normalize=False, random_state=30, solver='auto', tol=0.001)\n",
      "\n",
      "\t\tMetrics                     Train Data\t\tTest Data\n",
      "\t\t ------------------------------------------------------\n",
      "\t\tMean Absolute Error             3.342\t\t3.179\n",
      "\t\tMean Squared Error              22.715\t\t22.044\n",
      "\t\tMean Absolute Percentage Error  0.165\t\t0.166\n",
      "\t\tR2 Score                        0.742\t\t0.704\n"
     ]
    }
   ],
   "source": [
    "reg_model = model_creation(dataframe=df, label='medv',model_type=\"regression\")\n",
    "for est in ['lr', 'lasso','ridge',]:\n",
    "    model =  reg_model.create_model( model_name=est, model_evaluate=True)"
   ]
  },
  {
   "cell_type": "markdown",
   "metadata": {},
   "source": [
    "# $$\\text{Regression with tuned parameter}$$"
   ]
  },
  {
   "cell_type": "code",
   "execution_count": 3,
   "metadata": {},
   "outputs": [
    {
     "name": "stdout",
     "output_type": "stream",
     "text": [
      "\n",
      "**************************************** Regression report on Train Data and Test Data ****************************************\n",
      "\n",
      " GradientBoostingRegressor(alpha=0.9, ccp_alpha=0.0, criterion='friedman_mse',\n",
      "                          init=None, learning_rate=0.3, loss='huber',\n",
      "                          max_depth=4, max_features='sqrt', max_leaf_nodes=None,\n",
      "                          min_impurity_decrease=0.0, min_impurity_split=None,\n",
      "                          min_samples_leaf=1, min_samples_split=10,\n",
      "                          min_weight_fraction_leaf=0.0, n_estimators=50,\n",
      "                          n_iter_no_change=None, presort='deprecated',\n",
      "                          random_state=42, subsample=0.7, tol=0.0001,\n",
      "                          validation_fraction=0.1, verbose=0, warm_start=False)\n",
      "\n",
      "\t\tMetrics                     Train Data\t\tTest Data\n",
      "\t\t ------------------------------------------------------\n",
      "\t\tMean Absolute Error             0.789\t\t2.041\n",
      "\t\tMean Squared Error              1.402\t\t9.832\n",
      "\t\tMean Absolute Percentage Error  0.040\t\t0.104\n",
      "\t\tR2 Score                        0.984\t\t0.868\n",
      "\t\tMean Squared Log Error          0.003\t\t0.003\n",
      "\n",
      "**************************************** Regression report on Train Data and Test Data ****************************************\n",
      "\n",
      " AdaBoostRegressor(base_estimator=None, learning_rate=0.54, loss='exponential',\n",
      "                  n_estimators=175, random_state=42)\n",
      "\n",
      "\t\tMetrics                     Train Data\t\tTest Data\n",
      "\t\t ------------------------------------------------------\n",
      "\t\tMean Absolute Error             2.320\t\t2.830\n",
      "\t\tMean Squared Error              7.840\t\t16.062\n",
      "\t\tMean Absolute Percentage Error  0.124\t\t0.153\n",
      "\t\tR2 Score                        0.911\t\t0.784\n",
      "\t\tMean Squared Log Error          0.020\t\t0.020\n",
      "\n",
      "**************************************** Regression report on Train Data and Test Data ****************************************\n",
      "\n",
      " <catboost.core.CatBoostRegressor object at 0x7f1478766090>\n",
      "\n",
      "\t\tMetrics                     Train Data\t\tTest Data\n",
      "\t\t ------------------------------------------------------\n",
      "\t\tMean Absolute Error             0.000\t\t2.063\n",
      "\t\tMean Squared Error              0.000\t\t10.005\n",
      "\t\tMean Absolute Percentage Error  0.000\t\t0.103\n",
      "\t\tR2 Score                        1.000\t\t0.866\n",
      "\t\tMean Squared Log Error          0.000\t\t0.000\n"
     ]
    }
   ],
   "source": [
    "reg_tuned_model = model_creation(dataframe=df, label='medv',model_type=\"regression\")\n",
    "for est in ['gbr','ada','catboost']:\n",
    "    model1 =  reg_tuned_model.model_with_tuned_param( model_name=est, model_evaluate=True)"
   ]
  },
  {
   "cell_type": "code",
   "execution_count": null,
   "metadata": {},
   "outputs": [],
   "source": []
  }
 ],
 "metadata": {
  "kernelspec": {
   "display_name": "Python 3",
   "language": "python",
   "name": "python3"
  },
  "language_info": {
   "codemirror_mode": {
    "name": "ipython",
    "version": 3
   },
   "file_extension": ".py",
   "mimetype": "text/x-python",
   "name": "python",
   "nbconvert_exporter": "python",
   "pygments_lexer": "ipython3",
   "version": "3.7.6"
  }
 },
 "nbformat": 4,
 "nbformat_minor": 4
}
